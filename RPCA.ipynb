{
 "cells": [
  {
   "cell_type": "code",
   "execution_count": 1,
   "metadata": {},
   "outputs": [],
   "source": [
    "import numpy as np\n",
    "import cv2\n",
    "import matplotlib.pyplot as plt\n"
   ]
  },
  {
   "cell_type": "code",
   "execution_count": 2,
   "metadata": {},
   "outputs": [],
   "source": [
    "def pepper_salt_noise(p,image):\n",
    "    m, n = image.shape\n",
    "    frac = 1- p\n",
    "    sample = np.random.binomial(1, frac, size=m*n)\n",
    "    mask = np.reshape(sample, (m, n))\n",
    "    image_noise = image * mask\n",
    "    return mask, image_noise"
   ]
  },
  {
   "cell_type": "code",
   "execution_count": 3,
   "metadata": {},
   "outputs": [],
   "source": [
    "def rgb2gray(image):\n",
    "    r, g, b = image[:,:,0], image[:,:,1], image[:,:,2]\n",
    "    gray = 0.2989 * r + 0.5870 * g + 0.1140 * b\n",
    "    return gray"
   ]
  },
  {
   "cell_type": "code",
   "execution_count": 4,
   "metadata": {},
   "outputs": [
    {
     "data": {
      "text/plain": [
       "True"
      ]
     },
     "execution_count": 4,
     "metadata": {},
     "output_type": "execute_result"
    }
   ],
   "source": [
    "# example\n",
    "image = cv2.imread('persian_girl.jpg')\n",
    "image_gs =  rgb2gray(image)\n",
    "cv2.imwrite(\"gs.jpg\", image_gs)\n",
    "\n",
    "mask10, image_noise10 =  pepper_salt_noise(0.1,image_gs)\n",
    "cv2.imwrite(\"gs_noisy_10.jpg\", image_noise10 )\n",
    "\n",
    "mask20, image_noise20 =  pepper_salt_noise(0.2,image_gs)\n",
    "cv2.imwrite(\"gs_noisy_20.jpg\", image_noise20 )\n",
    "\n",
    "mask30, image_noise30 =  pepper_salt_noise(0.3,image_gs)\n",
    "cv2.imwrite(\"gs_noisy_30.jpg\", image_noise30)\n",
    "\n",
    "mask40, image_noise40 =  pepper_salt_noise(0.4,image_gs)\n",
    "cv2.imwrite(\"gs_noisy_40.jpg\", image_noise40)\n",
    "\n",
    "mask50, image_noise50 =  pepper_salt_noise(0.5,image_gs)\n",
    "cv2.imwrite(\"gs_noisy_50.jpg\", image_noise50)\n",
    "\n",
    "mask60, image_noise60 =  pepper_salt_noise(0.6,image_gs)\n",
    "cv2.imwrite(\"gs_noisy_50.jpg\", image_noise60)"
   ]
  },
  {
   "cell_type": "code",
   "execution_count": 5,
   "metadata": {},
   "outputs": [],
   "source": [
    "# https://github.com/vincenzobaz/RobustPCA/blob/master/code/robust_pca.py\n",
    "    \n",
    "def l1_norm(mat):\n",
    "    return np.sum(np.abs(mat))\n",
    "\n",
    "\n",
    "def frob_norm(mat):\n",
    "    return np.sqrt(np.sum(np.power(mat, 2)))\n",
    "\n",
    "\n",
    "def shrinkage(tau, X):\n",
    "    return np.sign(X) * np.maximum(np.abs(X) - tau, 0)\n",
    "\n",
    "\n",
    "def thresholding(tau, X):\n",
    "    u, s, vh = np.linalg.svd(X, full_matrices=False, compute_uv=True)\n",
    "    s = shrinkage(tau, s)\n",
    "    return np.multiply(u, s) @ vh\n",
    "\n",
    "\n",
    "def robust_pca(M, max_iters, delta=10**(-7)):\n",
    "    h, w = M.shape\n",
    "    S = np.zeros(M.shape)\n",
    "    Y = np.zeros(M.shape)\n",
    "    L = None\n",
    "    m_norm = frob_norm(M)\n",
    "    mu = h * w / (4 * l1_norm(M))\n",
    "    #mu = 0.001\n",
    "    muinv = 1 / mu\n",
    "    lambda_ = 1 / np.sqrt(max(h, w))\n",
    "\n",
    "    converged = False\n",
    "    n_iter = 0\n",
    "    while n_iter < max_iters and not converged:\n",
    "        muinvY = muinv * Y\n",
    "        L = thresholding(muinv, M - S + muinvY)\n",
    "        S = shrinkage(lambda_ * muinv, M - L + muinvY)\n",
    "        Y = Y + mu * (M - L - S)\n",
    "\n",
    "        converged = frob_norm(M - L - S) < delta * m_norm\n",
    "        n_iter += 1\n",
    "\n",
    "    print(f'Completed with {n_iter} SVDs')\n",
    "    return L, S, n_iter\n",
    "\n"
   ]
  },
  {
   "cell_type": "code",
   "execution_count": 6,
   "metadata": {},
   "outputs": [
    {
     "name": "stdout",
     "output_type": "stream",
     "text": [
      "Completed with 1000 SVDs\n",
      "Completed with 586 SVDs\n",
      "Completed with 292 SVDs\n",
      "Completed with 702 SVDs\n",
      "Completed with 813 SVDs\n",
      "Completed with 292 SVDs\n"
     ]
    }
   ],
   "source": [
    "L10, S10, n_iter10 = robust_pca(image_noise10, 1000, delta=10**(-7))\n",
    "L20, S20, n_iter20 = robust_pca(image_noise20, 1000, delta=10**(-7))\n",
    "L30, S30, n_iter30 = robust_pca(image_noise30, 1000, delta=10**(-7))\n",
    "L40, S40, n_iter40 = robust_pca(image_noise40, 1000, delta=10**(-7))\n",
    "L50, S50, n_iter50 = robust_pca(image_noise50, 1000, delta=10**(-7))\n",
    "L60, S60, n_iter60 = robust_pca(image_noise60, 1000, delta=10**(-7))\n",
    "\n"
   ]
  },
  {
   "cell_type": "code",
   "execution_count": 7,
   "metadata": {},
   "outputs": [
    {
     "data": {
      "text/plain": [
       "True"
      ]
     },
     "execution_count": 7,
     "metadata": {},
     "output_type": "execute_result"
    }
   ],
   "source": [
    "cv2.imwrite(\"recovery10.jpg\", L10 )\n",
    "cv2.imwrite(\"recovery20.jpg\", L20 )\n",
    "cv2.imwrite(\"recovery30.jpg\", L30 )\n",
    "cv2.imwrite(\"recovery40.jpg\", L40 )\n",
    "cv2.imwrite(\"recovery50.jpg\", L50 )\n",
    "cv2.imwrite(\"recovery60.jpg\", L60 )\n"
   ]
  },
  {
   "cell_type": "code",
   "execution_count": 18,
   "metadata": {},
   "outputs": [
    {
     "name": "stderr",
     "output_type": "stream",
     "text": [
      "C:\\Users\\hamid\\anaconda3\\lib\\site-packages\\ipykernel_launcher.py:2: UserWarning: DEPRECATED: skimage.measure.compare_ssim has been moved to skimage.metrics.structural_similarity. It will be removed from skimage.measure in version 0.18.\n",
      "  \n"
     ]
    },
    {
     "data": {
      "text/plain": [
       "8.07728344632673e-06"
      ]
     },
     "execution_count": 18,
     "metadata": {},
     "output_type": "execute_result"
    }
   ],
   "source": [
    "from skimage.measure import compare_ssim as ssim\n",
    "ssim(image_gs,L60)"
   ]
  },
  {
   "cell_type": "code",
   "execution_count": null,
   "metadata": {},
   "outputs": [],
   "source": []
  }
 ],
 "metadata": {
  "kernelspec": {
   "display_name": "Python 3",
   "language": "python",
   "name": "python3"
  },
  "language_info": {
   "codemirror_mode": {
    "name": "ipython",
    "version": 3
   },
   "file_extension": ".py",
   "mimetype": "text/x-python",
   "name": "python",
   "nbconvert_exporter": "python",
   "pygments_lexer": "ipython3",
   "version": "3.7.6"
  }
 },
 "nbformat": 4,
 "nbformat_minor": 4
}
